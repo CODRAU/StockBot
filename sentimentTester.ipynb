{
 "cells": [
  {
   "cell_type": "code",
   "execution_count": 17,
   "metadata": {},
   "outputs": [],
   "source": [
    "from finbert_utils import estimate_sentiment\n",
    "from datetime import datetime \n",
    "from alpaca_trade_api import REST \n",
    "from dotenv import load_dotenv"
   ]
  },
  {
   "cell_type": "code",
   "execution_count": 18,
   "metadata": {},
   "outputs": [],
   "source": [
    "API_KEY = \"PKRIOHM2XO72IUBWVFSW\" \n",
    "API_SECRET = \"6SBDLMa5Os9cG1KCHYqgMNwdrwYanmnJNQI4Yoxo\" \n",
    "BASE_URL = \"https://paper-api.alpaca.markets\"\n",
    "\n",
    "ALPACA_CREDS = {\n",
    "    \"API_KEY\":API_KEY, \n",
    "    \"API_SECRET\": API_SECRET, \n",
    "    \"PAPER\": True\n",
    "}\n",
    "\n",
    "api = REST(base_url=BASE_URL, key_id=API_KEY, secret_key=API_SECRET)"
   ]
  },
  {
   "cell_type": "code",
   "execution_count": 19,
   "metadata": {},
   "outputs": [],
   "source": [
    "def get_sentiment(api): \n",
    "        news = api.get_news(symbol='AAPL', \n",
    "                                 start='2015-07-15', \n",
    "                                 end='2015-07-23') \n",
    "        news = [ev.__dict__[\"_raw\"][\"headline\"] for ev in news]\n",
    "        probability, sentiment = estimate_sentiment(news)\n",
    "        return probability, sentiment "
   ]
  },
  {
   "cell_type": "code",
   "execution_count": 21,
   "metadata": {},
   "outputs": [
    {
     "name": "stdout",
     "output_type": "stream",
     "text": [
      "[\"Semi, IC Stocks Clobbered; Summit's Srini Sundararajan Provides Some Insight\", 'SanDisk Analysts Sees Both Risk And Upside Heading Into Earnings', 'Apple Slightly Rebounds After Post-Earning Slide', \"Exclusive: Piper Jaffray's Gene Munster Explains Why Apple Should Buy Tesla\", \"UBS: The Street Got 'A Little Bit Too Excited' For Apple's Q3 Results, Business Doing 'Awfully Well'\", \"Market Update: Wednesday's Top Volume Leaders; Apple, Bank of America, Microsoft, and More!\", \"Market Update: Wednesday's Mid-Day Movers: US, Asian Markets Slow; Apple, Microsoft, Chipotle, IBM, And More!\", \"Stephen's Kumar On Semiconductor Weakness: It's A 'Tremendous' Opportunity, Apple Fears 'Overblown'\", \"Piper Jaffray's Gene Munster Says Their Is Opportunity For Tech Companies To Box Out Traditional Automotive Firms Over Next Few Decades\", 'Piper\\'s Munster Sees \"Stepwise\" Growth In Apple Watch Sales']\n",
      "tensor(0.7126, grad_fn=<SelectBackward0>) positive\n"
     ]
    }
   ],
   "source": [
    "probabilitye, sentiments = get_sentiment(api)\n",
    "print(probabilitye, sentiments)"
   ]
  }
 ],
 "metadata": {
  "kernelspec": {
   "display_name": ".venv",
   "language": "python",
   "name": "python3"
  },
  "language_info": {
   "codemirror_mode": {
    "name": "ipython",
    "version": 3
   },
   "file_extension": ".py",
   "mimetype": "text/x-python",
   "name": "python",
   "nbconvert_exporter": "python",
   "pygments_lexer": "ipython3",
   "version": "3.11.7"
  }
 },
 "nbformat": 4,
 "nbformat_minor": 2
}
