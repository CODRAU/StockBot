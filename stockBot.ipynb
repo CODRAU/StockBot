{
 "cells": [
  {
   "cell_type": "code",
   "execution_count": 2,
   "metadata": {},
   "outputs": [
    {
     "name": "stderr",
     "output_type": "stream",
     "text": [
      "/Users/cr/Desktop/StockBot/.venv/lib/python3.11/site-packages/tqdm/auto.py:21: TqdmWarning: IProgress not found. Please update jupyter and ipywidgets. See https://ipywidgets.readthedocs.io/en/stable/user_install.html\n",
      "  from .autonotebook import tqdm as notebook_tqdm\n"
     ]
    }
   ],
   "source": [
    "import yfinance as yf\n",
    "import tensorflow as tf\n",
    "import numpy as np\n",
    "import pandas as pd\n",
    "import requests\n",
    "from transformers import pipeline\n",
    "import os\n",
    "from sklearn.preprocessing import LabelEncoder\n",
    "from tensorflow.keras.utils import to_categorical\n",
    "from tensorflow.keras.models import Sequential, Model\n",
    "from tensorflow.keras.layers import LSTM, Dense, Dropout, Input, Flatten, Concatenate\n",
    "import tweepy"
   ]
  },
  {
   "cell_type": "code",
   "execution_count": null,
   "metadata": {},
   "outputs": [],
   "source": [
    "TOP_25_STOCKS = ['AAPL', 'MSFT', 'AMZN', 'NVDA', 'GOOGL', \n",
    "                 'TSLA', 'GOOG', 'BRK-B', 'META', 'UNH', \n",
    "                 'XOM', 'LLY', 'JPM', 'JNJ', 'V', \n",
    "                 'PG', 'MA', 'AVGO', 'HD', 'CVX', \n",
    "                 'MRK', 'ABBV', 'COST', 'PEP', 'ADBE']\n",
    "\n",
    "#Encoding tickers\n",
    "label_encoder = LabelEncoder()\n",
    "TICKERS_ENCODED = label_encoder.fit_transform(TOP_25_STOCKS)\n",
    "print(TICKERS_ENCODED)\n",
    "TICKERS_ONEHOT = to_categorical(TICKERS_ENCODED)\n",
    "print(TICKERS_ONEHOT)"
   ]
  },
  {
   "cell_type": "code",
   "execution_count": 12,
   "metadata": {},
   "outputs": [
    {
     "name": "stderr",
     "output_type": "stream",
     "text": [
      "[*********************100%%**********************]  1 of 1 completed\n",
      "[*********************100%%**********************]  1 of 1 completed\n",
      "[*********************100%%**********************]  1 of 1 completed\n",
      "[*********************100%%**********************]  1 of 1 completed\n",
      "[*********************100%%**********************]  1 of 1 completed\n",
      "[*********************100%%**********************]  1 of 1 completed\n"
     ]
    },
    {
     "name": "stdout",
     "output_type": "stream",
     "text": [
      "Index([   0,    1,    2,    3,    4,    5,    6,    7,    8,    9,\n",
      "       ...\n",
      "       3008, 3009, 3010, 3011, 3012, 3013, 3014, 3015, 3016, 3017],\n",
      "      dtype='int64', name='index', length=3018)\n",
      "Index([   0,    1,    2,    3,    4,    5,    6,    7,    8,    9,\n",
      "       ...\n",
      "       3008, 3009, 3010, 3011, 3012, 3013, 3014, 3015, 3016, 3017],\n",
      "      dtype='int64', name='index', length=3018)\n",
      "Index([   0,    1,    2,    3,    4,    5,    6,    7,    8,    9,\n",
      "       ...\n",
      "       3008, 3009, 3010, 3011, 3012, 3013, 3014, 3015, 3016, 3017],\n",
      "      dtype='int64', name='index', length=3018)\n",
      "Index([   0,    1,    2,    3,    4,    5,    6,    7,    8,    9,\n",
      "       ...\n",
      "       3008, 3009, 3010, 3011, 3012, 3013, 3014, 3015, 3016, 3017],\n",
      "      dtype='int64', name='index', length=3018)\n",
      "Index([   0,    1,    2,    3,    4,    5,    6,    7,    8,    9,\n",
      "       ...\n",
      "       3008, 3009, 3010, 3011, 3012, 3013, 3014, 3015, 3016, 3017],\n",
      "      dtype='int64', name='index', length=3018)\n",
      "Index([   0,    1,    2,    3,    4,    5,    6,    7,    8,    9,\n",
      "       ...\n",
      "       3008, 3009, 3010, 3011, 3012, 3013, 3014, 3015, 3016, 3017],\n",
      "      dtype='int64', name='index', length=3018)\n"
     ]
    },
    {
     "name": "stderr",
     "output_type": "stream",
     "text": [
      "[*********************100%%**********************]  1 of 1 completed\n",
      "[*********************100%%**********************]  1 of 1 completed\n",
      "[*********************100%%**********************]  1 of 1 completed\n",
      "[*********************100%%**********************]  1 of 1 completed\n",
      "[*********************100%%**********************]  1 of 1 completed\n",
      "[*********************100%%**********************]  1 of 1 completed\n",
      "[*********************100%%**********************]  1 of 1 completed\n",
      "[*********************100%%**********************]  1 of 1 completed"
     ]
    },
    {
     "name": "stdout",
     "output_type": "stream",
     "text": [
      "Index([   0,    1,    2,    3,    4,    5,    6,    7,    8,    9,\n",
      "       ...\n",
      "       2448, 2449, 2450, 2451, 2452, 2453, 2454, 2455, 2456, 2457],\n",
      "      dtype='int64', name='index', length=2458)\n",
      "Index([   0,    1,    2,    3,    4,    5,    6,    7,    8,    9,\n",
      "       ...\n",
      "       3008, 3009, 3010, 3011, 3012, 3013, 3014, 3015, 3016, 3017],\n",
      "      dtype='int64', name='index', length=3018)\n",
      "Index([   0,    1,    2,    3,    4,    5,    6,    7,    8,    9,\n",
      "       ...\n",
      "       2913, 2914, 2915, 2916, 2917, 2918, 2919, 2920, 2921, 2922],\n",
      "      dtype='int64', name='index', length=2923)\n",
      "Index([   0,    1,    2,    3,    4,    5,    6,    7,    8,    9,\n",
      "       ...\n",
      "       3008, 3009, 3010, 3011, 3012, 3013, 3014, 3015, 3016, 3017],\n",
      "      dtype='int64', name='index', length=3018)\n",
      "Index([   0,    1,    2,    3,    4,    5,    6,    7,    8,    9,\n",
      "       ...\n",
      "       3008, 3009, 3010, 3011, 3012, 3013, 3014, 3015, 3016, 3017],\n",
      "      dtype='int64', name='index', length=3018)\n",
      "Index([   0,    1,    2,    3,    4,    5,    6,    7,    8,    9,\n",
      "       ...\n",
      "       3008, 3009, 3010, 3011, 3012, 3013, 3014, 3015, 3016, 3017],\n",
      "      dtype='int64', name='index', length=3018)\n",
      "Index([   0,    1,    2,    3,    4,    5,    6,    7,    8,    9,\n",
      "       ...\n",
      "       3008, 3009, 3010, 3011, 3012, 3013, 3014, 3015, 3016, 3017],\n",
      "      dtype='int64', name='index', length=3018)\n"
     ]
    },
    {
     "name": "stderr",
     "output_type": "stream",
     "text": [
      "\n",
      "[*********************100%%**********************]  1 of 1 completed\n",
      "[*********************100%%**********************]  1 of 1 completed\n",
      "[*********************100%%**********************]  1 of 1 completed\n",
      "[*********************100%%**********************]  1 of 1 completed\n",
      "[*********************100%%**********************]  1 of 1 completed\n",
      "[*********************100%%**********************]  1 of 1 completed\n"
     ]
    },
    {
     "name": "stdout",
     "output_type": "stream",
     "text": [
      "Index([   0,    1,    2,    3,    4,    5,    6,    7,    8,    9,\n",
      "       ...\n",
      "       3008, 3009, 3010, 3011, 3012, 3013, 3014, 3015, 3016, 3017],\n",
      "      dtype='int64', name='index', length=3018)\n",
      "Index([   0,    1,    2,    3,    4,    5,    6,    7,    8,    9,\n",
      "       ...\n",
      "       3008, 3009, 3010, 3011, 3012, 3013, 3014, 3015, 3016, 3017],\n",
      "      dtype='int64', name='index', length=3018)\n",
      "Index([   0,    1,    2,    3,    4,    5,    6,    7,    8,    9,\n",
      "       ...\n",
      "       3008, 3009, 3010, 3011, 3012, 3013, 3014, 3015, 3016, 3017],\n",
      "      dtype='int64', name='index', length=3018)\n",
      "Index([   0,    1,    2,    3,    4,    5,    6,    7,    8,    9,\n",
      "       ...\n",
      "       3008, 3009, 3010, 3011, 3012, 3013, 3014, 3015, 3016, 3017],\n",
      "      dtype='int64', name='index', length=3018)\n",
      "Index([   0,    1,    2,    3,    4,    5,    6,    7,    8,    9,\n",
      "       ...\n",
      "       3008, 3009, 3010, 3011, 3012, 3013, 3014, 3015, 3016, 3017],\n",
      "      dtype='int64', name='index', length=3018)\n",
      "Index([   0,    1,    2,    3,    4,    5,    6,    7,    8,    9,\n",
      "       ...\n",
      "       3008, 3009, 3010, 3011, 3012, 3013, 3014, 3015, 3016, 3017],\n",
      "      dtype='int64', name='index', length=3018)\n",
      "Index([   0,    1,    2,    3,    4,    5,    6,    7,    8,    9,\n",
      "       ...\n",
      "       3008, 3009, 3010, 3011, 3012, 3013, 3014, 3015, 3016, 3017],\n",
      "      dtype='int64', name='index', length=3018)\n"
     ]
    },
    {
     "name": "stderr",
     "output_type": "stream",
     "text": [
      "[*********************100%%**********************]  1 of 1 completed\n",
      "[*********************100%%**********************]  1 of 1 completed\n",
      "[*********************100%%**********************]  1 of 1 completed\n",
      "[*********************100%%**********************]  1 of 1 completed\n",
      "[*********************100%%**********************]  1 of 1 completed"
     ]
    },
    {
     "name": "stdout",
     "output_type": "stream",
     "text": [
      "Index([   0,    1,    2,    3,    4,    5,    6,    7,    8,    9,\n",
      "       ...\n",
      "       3008, 3009, 3010, 3011, 3012, 3013, 3014, 3015, 3016, 3017],\n",
      "      dtype='int64', name='index', length=3018)\n",
      "Index([   0,    1,    2,    3,    4,    5,    6,    7,    8,    9,\n",
      "       ...\n",
      "       2758, 2759, 2760, 2761, 2762, 2763, 2764, 2765, 2766, 2767],\n",
      "      dtype='int64', name='index', length=2768)\n",
      "Index([   0,    1,    2,    3,    4,    5,    6,    7,    8,    9,\n",
      "       ...\n",
      "       3008, 3009, 3010, 3011, 3012, 3013, 3014, 3015, 3016, 3017],\n",
      "      dtype='int64', name='index', length=3018)\n",
      "Index([   0,    1,    2,    3,    4,    5,    6,    7,    8,    9,\n",
      "       ...\n",
      "       3008, 3009, 3010, 3011, 3012, 3013, 3014, 3015, 3016, 3017],\n",
      "      dtype='int64', name='index', length=3018)\n",
      "Index([   0,    1,    2,    3,    4,    5,    6,    7,    8,    9,\n",
      "       ...\n",
      "       3008, 3009, 3010, 3011, 3012, 3013, 3014, 3015, 3016, 3017],\n",
      "      dtype='int64', name='index', length=3018)\n"
     ]
    },
    {
     "name": "stderr",
     "output_type": "stream",
     "text": [
      "\n"
     ]
    }
   ],
   "source": [
    "#downloading stock data\n",
    "\n",
    "directory = 'TrainStockData'\n",
    "\n",
    "for stock in TOP_25_STOCKS:\n",
    "    data = yf.download(stock, start=\"2012-01-01\", end=\"2024-01-01\")\n",
    "    data = data.drop(columns=['Open', 'High', 'Low', 'Adj Close'])\n",
    "    data.insert(0, 'Ticker', stock, True)\n",
    "    sentiments = []\n",
    "    data['Date'] = data.index\n",
    "    data['index'] = range(len(data))\n",
    "    data.set_index('index', inplace=True)\n",
    "    print(data.index)\n",
    "    # for date in data.index:\n",
    "    #     year = int(date.split('-')[0])\n",
    "    #     month = int(date.split('-')[1])\n",
    "    #     day = int(date.split('-')[2])\n",
    "    \n",
    "    #     sumSentiments = 0\n",
    "    #     numSentiments = 0\n",
    "    #     print(date)\n",
    "        \n",
    "    #     avgSentiments = None\n",
    "    #     if numSentiments != 0:\n",
    "    #         avgSentiments = sumSentiments/numSentiments\n",
    "        \n",
    "    data.to_csv(os.path.join(directory, f'Train_{stock}.csv'))"
   ]
  },
  {
   "cell_type": "code",
   "execution_count": null,
   "metadata": {},
   "outputs": [],
   "source": []
  }
 ],
 "metadata": {
  "kernelspec": {
   "display_name": ".venv",
   "language": "python",
   "name": "python3"
  },
  "language_info": {
   "codemirror_mode": {
    "name": "ipython",
    "version": 3
   },
   "file_extension": ".py",
   "mimetype": "text/x-python",
   "name": "python",
   "nbconvert_exporter": "python",
   "pygments_lexer": "ipython3",
   "version": "3.11.7"
  }
 },
 "nbformat": 4,
 "nbformat_minor": 2
}
